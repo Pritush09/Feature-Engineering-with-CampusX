{
 "cells": [
  {
   "cell_type": "code",
   "execution_count": 1,
   "id": "ea058c77",
   "metadata": {},
   "outputs": [],
   "source": [
    "# This a unsupervised ML Problem (there ar only input no output)  and a complex technique (math complex)\n",
    "# makes model faster as less no. of features"
   ]
  },
  {
   "cell_type": "code",
   "execution_count": 2,
   "id": "a8e4d3a6",
   "metadata": {},
   "outputs": [],
   "source": [
    "# this preserves the essence of the data when it was is the higher dimension and is the best for \n",
    "# dimensionality reduction"
   ]
  },
  {
   "cell_type": "code",
   "execution_count": 3,
   "id": "bc5daaf5",
   "metadata": {},
   "outputs": [],
   "source": [
    "# Benifits \n",
    "# 1. computation faster and less  memory consumption\n",
    "# 2. Visualisation as human cannot visualize in more than 3D"
   ]
  },
  {
   "cell_type": "code",
   "execution_count": 4,
   "id": "bc51ed55",
   "metadata": {},
   "outputs": [],
   "source": [
    "# Inn PCA we dont use MAD(MEan Absolute Deviation)(|x|) as the mod function is not differntiable at 0\n",
    "# therfore we cannot use optimizatio algorithim after applying PCA later on in the process of modle building"
   ]
  },
  {
   "cell_type": "code",
   "execution_count": 6,
   "id": "3c2f6dad",
   "metadata": {},
   "outputs": [],
   "source": [
    "# Variance is important to preserve the relationship between the data points which they have in larger \n",
    "# dimension space in this\n",
    "# Ex - Photograph by a media men for which he hass to take the photo of players from all the angle inorder\n",
    "# to get the best possible outcome and the variance is also preserve"
   ]
  },
  {
   "cell_type": "code",
   "execution_count": null,
   "id": "2ba86e1c",
   "metadata": {},
   "outputs": [],
   "source": []
  }
 ],
 "metadata": {
  "kernelspec": {
   "display_name": "Python 3 (ipykernel)",
   "language": "python",
   "name": "python3"
  },
  "language_info": {
   "codemirror_mode": {
    "name": "ipython",
    "version": 3
   },
   "file_extension": ".py",
   "mimetype": "text/x-python",
   "name": "python",
   "nbconvert_exporter": "python",
   "pygments_lexer": "ipython3",
   "version": "3.10.0"
  }
 },
 "nbformat": 4,
 "nbformat_minor": 5
}
